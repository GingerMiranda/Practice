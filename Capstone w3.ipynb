{
 "cells": [
  {
   "cell_type": "markdown",
   "metadata": {},
   "source": [
    "# The Battle of the Neighborhoods - Week 1¶\n",
    "## Introduction & Business Problem :\n",
    "### Problem Background:\n",
    "The City of New York, is the city with most quantity of people in the United States. One of its major characteristics is that it is multicultural and a lot of people from different countries access to the chance of the american dream. It provides great business opportinities and cultural experience as well. \n",
    "Also, the city is a major center for different sectors such as financial, retail, international commerce, tourism, fashion, arts (and others) in the US.\n",
    "\n",
    "This also means that the market flow is extremely competitive and the investment needed for entrepreneur businessin one of the highest worldwide. That's why every possinle new business venture have to analyse the return of investment to see if they could survive with that high costs. In this lab, we are going to expose some insights base on data anlysis available with the goal of being part of the decision that every entrepreneur o any company is going to make.\n",
    "\n",
    "### Problem Description:\n",
    "New York is well known for its cuisine, that has a unique influence by a great variety of international cuisine. Also, regarding to restaurants, the level of competition in this city is high. For possible new restaurants, depending on the core value of the company, the main differences or similarities with other brands every new entrepreneur should evaluate in high level where the restaurant should be located.\n",
    "\n",
    "The strategy plan can consider the quantity of people that lives nearby, the quality of other restaurants in the zone, the type of food, the area mood, etc.\n",
    "\n",
    "Also, additional variables should be analyzed befare any decision is made:\n",
    "\n",
    "Demographics, Population, possible provider (Freshmarkets, Wholesale locations)\n",
    "concurrence of the place\n",
    "competitors rate\n",
    "Segmentation of the Borough\n",
    "Untapped or Saturated markets etc\n",
    "\n",
    "Eventhough well funded XYZ Company Ltd. is going to select the best location fit to start its first venture.If this is successful they can replicate the same in other locations. \n",
    "As they are building their brand, the results of the performance of this first restaurant will be highly impactfull \n",
    "\n",
    "### Target Audience:\n",
    "To recommend the correct location, XYZ Company has appointed me to lead of the Data Science team. The objective is to recommend to the management which NY neighborhood will be best fit to open their restaurant.\n",
    "\n",
    "This would be of interest of anyone looking to open a food related company in New York\n",
    "\n",
    "## Success Criteria:\n",
    "The success criteria of this project will be a good recommendation of borough/Neighborhood choice to XYZ Company Ltd based on Lack of such restaurants in that location and nearest suppliers of ingredients, with a high level of significance."
   ]
  },
  {
   "cell_type": "code",
   "execution_count": null,
   "metadata": {},
   "outputs": [],
   "source": []
  }
 ],
 "metadata": {
  "kernelspec": {
   "display_name": "Python 3",
   "language": "python",
   "name": "python3"
  },
  "language_info": {
   "codemirror_mode": {
    "name": "ipython",
    "version": 3
   },
   "file_extension": ".py",
   "mimetype": "text/x-python",
   "name": "python",
   "nbconvert_exporter": "python",
   "pygments_lexer": "ipython3",
   "version": "3.7.3"
  }
 },
 "nbformat": 4,
 "nbformat_minor": 4
}
